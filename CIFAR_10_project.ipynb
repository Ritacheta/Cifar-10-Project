{
  "nbformat": 4,
  "nbformat_minor": 0,
  "metadata": {
    "colab": {
      "name": "CIFAR_10_project.ipynb",
      "provenance": [],
      "collapsed_sections": []
    },
    "kernelspec": {
      "name": "python3",
      "display_name": "Python 3"
    },
    "accelerator": "GPU"
  },
  "cells": [
    {
      "cell_type": "markdown",
      "metadata": {
        "id": "view-in-github"
      },
      "source": [
        "<a href=\"https://colab.research.google.com/github/Ritacheta/Cifar-10-Project/blob/master/CIFAR_10_project.ipynb\" target=\"_parent\"><img src=\"https://colab.research.google.com/assets/colab-badge.svg\" alt=\"Open In Colab\"/></a>"
      ]
    },
    {
      "cell_type": "markdown",
      "metadata": {
        "id": "NiY7CJjqnPEz"
      },
      "source": [
        "Importing **Libraries**"
      ]
    },
    {
      "cell_type": "code",
      "metadata": {
        "id": "_y2fMkYu_Iw0"
      },
      "source": [
        "# Load the TensorBoard notebook extension\n",
        "%load_ext tensorboard"
      ],
      "execution_count": null,
      "outputs": []
    },
    {
      "cell_type": "code",
      "metadata": {
        "id": "q-7ZmqCHNJDa"
      },
      "source": [
        "import tensorflow as tf\n",
        "from tensorflow.keras.models import Sequential\n",
        "from tensorflow.keras.applications import ResNet101\n",
        "from tensorflow.keras.applications.resnet import preprocess_input\n",
        "from tensorflow.keras.models import Model, Sequential\n",
        "from tensorflow.keras.layers import Dense, Conv2D, Flatten, Dropout, MaxPooling2D, BatchNormalization\n",
        "from tensorflow.keras.preprocessing.image import ImageDataGenerator\n",
        "from tensorflow.keras.regularizers import l2\n",
        "from tensorflow.keras.datasets import cifar10\n",
        "import datetime\n",
        "import os\n",
        "import numpy as np\n",
        "import matplotlib.pyplot as plt"
      ],
      "execution_count": 5,
      "outputs": []
    },
    {
      "cell_type": "code",
      "metadata": {
        "id": "mTlQxEC3Pqfc",
        "outputId": "9e507020-1df6-4265-8f28-2f4f6ff0da32",
        "colab": {
          "base_uri": "https://localhost:8080/",
          "height": 51
        }
      },
      "source": [
        "(train_images, train_labels), (test_images, test_labels) = cifar10.load_data()\n",
        "train_labels = tf.keras.utils.to_categorical( train_labels, num_classes=10, dtype='float32')\n",
        "test_labels = tf.keras.utils.to_categorical(test_labels, num_classes=10, dtype='float32')"
      ],
      "execution_count": 6,
      "outputs": [
        {
          "output_type": "stream",
          "text": [
            "Downloading data from https://www.cs.toronto.edu/~kriz/cifar-10-python.tar.gz\n",
            "170500096/170498071 [==============================] - 4s 0us/step\n"
          ],
          "name": "stdout"
        }
      ]
    },
    {
      "cell_type": "code",
      "metadata": {
        "id": "cxwfmyQD_XDX"
      },
      "source": [
        "# Clear any logs from previous runs\n",
        "!rm -rf ./logs/"
      ],
      "execution_count": 7,
      "outputs": []
    },
    {
      "cell_type": "code",
      "metadata": {
        "id": "PuS3HtnFRMeJ"
      },
      "source": [
        "class_names = ['airplane','automobile','bird','cat','deer','dog',\n",
        "               'frog','horse','ship','truck']"
      ],
      "execution_count": 8,
      "outputs": []
    },
    {
      "cell_type": "markdown",
      "metadata": {
        "id": "eKNu4IubP2co"
      },
      "source": [
        "Process **images**"
      ]
    },
    {
      "cell_type": "code",
      "metadata": {
        "id": "PloeZKugPn5E"
      },
      "source": [
        "train_datagen = ImageDataGenerator(\n",
        "    rescale = 1./255.0,\n",
        "    rotation_range=10,\n",
        "    width_shift_range=0.1,\n",
        "    height_shift_range=0.1,\n",
        "    horizontal_flip=True,\n",
        "    fill_mode='nearest'\n",
        "    )\n",
        "\n",
        "test_datagen = ImageDataGenerator(\n",
        "    rescale = 1./255.0,\n",
        "    )\n",
        "\n",
        "batch_size=64\n",
        "\n",
        "training_set = train_datagen.flow(train_images,train_labels,\n",
        "                                  batch_size=batch_size)\n",
        "\n",
        "test_set = test_datagen.flow(test_images,test_labels,\n",
        "                                  batch_size=batch_size)\n"
      ],
      "execution_count": 9,
      "outputs": []
    },
    {
      "cell_type": "markdown",
      "metadata": {
        "id": "17-YnL49QJIA"
      },
      "source": [
        "Creating the Network"
      ]
    },
    {
      "cell_type": "code",
      "metadata": {
        "id": "_1HtVjwLQFFS"
      },
      "source": [
        "model =Sequential([\n",
        "                   Conv2D(32, (3,3), activation='relu', padding='same', input_shape = (32,32,3)),\n",
        "                   BatchNormalization(),\n",
        "                   Conv2D(32, (3,3), activation='relu', padding='same'),\n",
        "                   BatchNormalization(),\n",
        "                   Conv2D(64, (3,3), activation='relu', padding='same'),\n",
        "                   BatchNormalization(),\n",
        "                   Conv2D(64, (3,3), activation='relu', padding='same'),\n",
        "                   BatchNormalization(),\n",
        "                   MaxPooling2D((2,2)),\n",
        "                   Conv2D(128, (3,3), activation='relu', padding='same'),\n",
        "                   BatchNormalization(),\n",
        "                   Conv2D(128, (3,3), activation='relu', padding='same'),\n",
        "                   BatchNormalization(),\n",
        "                   MaxPooling2D((2,2)),\n",
        "                   Conv2D(256, (3,3), activation='relu', padding='same'),\n",
        "                   BatchNormalization(),\n",
        "                   Conv2D(256, (3,3), activation='relu', padding='same'),\n",
        "                   BatchNormalization(),\n",
        "                   MaxPooling2D((2,2)),\n",
        "                   Conv2D(512, (3,3), activation='relu', padding='same'),\n",
        "                   BatchNormalization(),\n",
        "                   Conv2D(512, (3,3), activation='relu', padding='same'),\n",
        "                   BatchNormalization(),\n",
        "                   MaxPooling2D((2,2)),\n",
        "                   Flatten(),\n",
        "                   Dense(512, activation='relu', kernel_regularizer=l2(1e-4)),\n",
        "                   BatchNormalization(),\n",
        "                   Dropout(0.3),\n",
        "                   Dense(512, activation='relu', kernel_regularizer=l2(1e-4)),\n",
        "                   BatchNormalization(),\n",
        "                   Dropout(0.3),\n",
        "                   Dense(10, activation='softmax')\n",
        "])\n"
      ],
      "execution_count": 26,
      "outputs": []
    },
    {
      "cell_type": "code",
      "metadata": {
        "id": "si2UPpGRRWsM",
        "outputId": "edc94aa8-0ade-4f77-93bf-fbb7296ec143",
        "colab": {
          "base_uri": "https://localhost:8080/",
          "height": 1000
        }
      },
      "source": [
        "model.summary()"
      ],
      "execution_count": 27,
      "outputs": [
        {
          "output_type": "stream",
          "text": [
            "Model: \"sequential_2\"\n",
            "_________________________________________________________________\n",
            "Layer (type)                 Output Shape              Param #   \n",
            "=================================================================\n",
            "conv2d_18 (Conv2D)           (None, 32, 32, 32)        896       \n",
            "_________________________________________________________________\n",
            "batch_normalization_22 (Batc (None, 32, 32, 32)        128       \n",
            "_________________________________________________________________\n",
            "conv2d_19 (Conv2D)           (None, 32, 32, 32)        9248      \n",
            "_________________________________________________________________\n",
            "batch_normalization_23 (Batc (None, 32, 32, 32)        128       \n",
            "_________________________________________________________________\n",
            "conv2d_20 (Conv2D)           (None, 32, 32, 64)        18496     \n",
            "_________________________________________________________________\n",
            "batch_normalization_24 (Batc (None, 32, 32, 64)        256       \n",
            "_________________________________________________________________\n",
            "conv2d_21 (Conv2D)           (None, 32, 32, 64)        36928     \n",
            "_________________________________________________________________\n",
            "batch_normalization_25 (Batc (None, 32, 32, 64)        256       \n",
            "_________________________________________________________________\n",
            "max_pooling2d_7 (MaxPooling2 (None, 16, 16, 64)        0         \n",
            "_________________________________________________________________\n",
            "conv2d_22 (Conv2D)           (None, 16, 16, 128)       73856     \n",
            "_________________________________________________________________\n",
            "batch_normalization_26 (Batc (None, 16, 16, 128)       512       \n",
            "_________________________________________________________________\n",
            "conv2d_23 (Conv2D)           (None, 16, 16, 128)       147584    \n",
            "_________________________________________________________________\n",
            "batch_normalization_27 (Batc (None, 16, 16, 128)       512       \n",
            "_________________________________________________________________\n",
            "max_pooling2d_8 (MaxPooling2 (None, 8, 8, 128)         0         \n",
            "_________________________________________________________________\n",
            "conv2d_24 (Conv2D)           (None, 8, 8, 256)         295168    \n",
            "_________________________________________________________________\n",
            "batch_normalization_28 (Batc (None, 8, 8, 256)         1024      \n",
            "_________________________________________________________________\n",
            "conv2d_25 (Conv2D)           (None, 8, 8, 256)         590080    \n",
            "_________________________________________________________________\n",
            "batch_normalization_29 (Batc (None, 8, 8, 256)         1024      \n",
            "_________________________________________________________________\n",
            "max_pooling2d_9 (MaxPooling2 (None, 4, 4, 256)         0         \n",
            "_________________________________________________________________\n",
            "conv2d_26 (Conv2D)           (None, 4, 4, 512)         1180160   \n",
            "_________________________________________________________________\n",
            "batch_normalization_30 (Batc (None, 4, 4, 512)         2048      \n",
            "_________________________________________________________________\n",
            "conv2d_27 (Conv2D)           (None, 4, 4, 512)         2359808   \n",
            "_________________________________________________________________\n",
            "batch_normalization_31 (Batc (None, 4, 4, 512)         2048      \n",
            "_________________________________________________________________\n",
            "max_pooling2d_10 (MaxPooling (None, 2, 2, 512)         0         \n",
            "_________________________________________________________________\n",
            "flatten_2 (Flatten)          (None, 2048)              0         \n",
            "_________________________________________________________________\n",
            "dense_6 (Dense)              (None, 512)               1049088   \n",
            "_________________________________________________________________\n",
            "batch_normalization_32 (Batc (None, 512)               2048      \n",
            "_________________________________________________________________\n",
            "dropout_4 (Dropout)          (None, 512)               0         \n",
            "_________________________________________________________________\n",
            "dense_7 (Dense)              (None, 512)               262656    \n",
            "_________________________________________________________________\n",
            "batch_normalization_33 (Batc (None, 512)               2048      \n",
            "_________________________________________________________________\n",
            "dropout_5 (Dropout)          (None, 512)               0         \n",
            "_________________________________________________________________\n",
            "dense_8 (Dense)              (None, 10)                5130      \n",
            "=================================================================\n",
            "Total params: 6,041,130\n",
            "Trainable params: 6,035,114\n",
            "Non-trainable params: 6,016\n",
            "_________________________________________________________________\n"
          ],
          "name": "stdout"
        }
      ]
    },
    {
      "cell_type": "markdown",
      "metadata": {
        "id": "Tta2NiBsBIb3"
      },
      "source": [
        "Optimizer"
      ]
    },
    {
      "cell_type": "code",
      "metadata": {
        "id": "sls0HGlFRj3Q"
      },
      "source": [
        " opt = tf.keras.optimizers.Adam(\n",
        "    learning_rate=0.001, beta_1=0.9, beta_2=0.999, epsilon=1e-07, amsgrad=False, name='Adam'\n",
        " )\n",
        " \n",
        "model.compile(optimizer=opt,\n",
        "    loss='categorical_crossentropy',\n",
        "    metrics=['acc'])"
      ],
      "execution_count": 28,
      "outputs": []
    },
    {
      "cell_type": "code",
      "metadata": {
        "id": "nVwJXlezRxCK",
        "outputId": "16724665-3b4c-44af-b94f-9c785fd6cd6c",
        "colab": {
          "base_uri": "https://localhost:8080/",
          "height": 394
        }
      },
      "source": [
        "# history = model.fit(train_images, train_labels, epochs=50, batch_size=64, validation_data=(test_images, test_labels))\n",
        "log_dir = \"logs/fit/\" + datetime.datetime.now().strftime(\"%Y%m%d-%H%M%S\")\n",
        "tensorboard_callback = tf.keras.callbacks.TensorBoard(log_dir=log_dir, histogram_freq=1)\n",
        "save_best_model = tf.keras.callbacks.ModelCheckpoint('./best_model.h5', monitor='val_acc', verbose=1, save_bestimages_only=True)\n",
        "history = model.fit(training_set, epochs=10, validation_data=test_set, callbacks = [tensorboard_callback])"
      ],
      "execution_count": 29,
      "outputs": [
        {
          "output_type": "stream",
          "text": [
            "Epoch 1/10\n",
            "  2/782 [..............................] - ETA: 58s - loss: 3.4348 - acc: 0.1094WARNING:tensorflow:Callbacks method `on_train_batch_end` is slow compared to the batch time (batch time: 0.0243s vs `on_train_batch_end` time: 0.1174s). Check your callbacks.\n",
            "782/782 [==============================] - 32s 41ms/step - loss: 1.7188 - acc: 0.4569 - val_loss: 1.6963 - val_acc: 0.5276\n",
            "Epoch 2/10\n",
            "782/782 [==============================] - 31s 40ms/step - loss: 1.0771 - acc: 0.6690 - val_loss: 1.3081 - val_acc: 0.6293\n",
            "Epoch 3/10\n",
            "782/782 [==============================] - 32s 41ms/step - loss: 0.8780 - acc: 0.7363 - val_loss: 1.2653 - val_acc: 0.6484\n",
            "Epoch 4/10\n",
            "782/782 [==============================] - 31s 40ms/step - loss: 0.7465 - acc: 0.7777 - val_loss: 0.7250 - val_acc: 0.7829\n",
            "Epoch 5/10\n",
            "782/782 [==============================] - 31s 40ms/step - loss: 0.6516 - acc: 0.8038 - val_loss: 0.6750 - val_acc: 0.7995\n",
            "Epoch 6/10\n",
            "782/782 [==============================] - 31s 40ms/step - loss: 0.5875 - acc: 0.8259 - val_loss: 0.6866 - val_acc: 0.7993\n",
            "Epoch 7/10\n",
            "782/782 [==============================] - 31s 40ms/step - loss: 0.5410 - acc: 0.8380 - val_loss: 0.5934 - val_acc: 0.8216\n",
            "Epoch 8/10\n",
            "782/782 [==============================] - 31s 40ms/step - loss: 0.5016 - acc: 0.8516 - val_loss: 0.6038 - val_acc: 0.8242\n",
            "Epoch 9/10\n",
            "782/782 [==============================] - 32s 41ms/step - loss: 0.4665 - acc: 0.8640 - val_loss: 0.6259 - val_acc: 0.8132\n",
            "Epoch 10/10\n",
            "782/782 [==============================] - 32s 41ms/step - loss: 0.4321 - acc: 0.8739 - val_loss: 0.4795 - val_acc: 0.8571\n"
          ],
          "name": "stdout"
        }
      ]
    },
    {
      "cell_type": "code",
      "metadata": {
        "id": "ERGh4HUp9IBw",
        "outputId": "d1dca8d6-1a9a-48ba-fe35-dc1ef2eaa16a",
        "colab": {
          "base_uri": "https://localhost:8080/",
          "height": 51
        }
      },
      "source": [
        "model.evaluate(test_set, verbose=1)"
      ],
      "execution_count": 18,
      "outputs": [
        {
          "output_type": "stream",
          "text": [
            "157/157 [==============================] - 2s 10ms/step - loss: 0.6289 - acc: 0.8587\n"
          ],
          "name": "stdout"
        },
        {
          "output_type": "execute_result",
          "data": {
            "text/plain": [
              "[0.6288815140724182, 0.8586999773979187]"
            ]
          },
          "metadata": {
            "tags": []
          },
          "execution_count": 18
        }
      ]
    },
    {
      "cell_type": "markdown",
      "metadata": {
        "id": "8Djz6TOMA8SQ"
      },
      "source": [
        "Ploting train vs **validation**"
      ]
    },
    {
      "cell_type": "code",
      "metadata": {
        "id": "XT5gnAai_ulq",
        "outputId": "fe42d21d-6da6-4fa8-e0c7-67a29fd037d6",
        "colab": {
          "base_uri": "https://localhost:8080/"
        }
      },
      "source": [
        "%tensorboard --logdir logs/fit"
      ],
      "execution_count": null,
      "outputs": [
        {
          "output_type": "display_data",
          "data": {
            "text/plain": [
              "Launching TensorBoard..."
            ]
          },
          "metadata": {
            "tags": []
          }
        }
      ]
    },
    {
      "cell_type": "code",
      "metadata": {
        "id": "v47Lxm-ESmys",
        "outputId": "0a0e32d8-7e35-4222-d1ca-fb2f139dedd0",
        "colab": {
          "base_uri": "https://localhost:8080/",
          "height": 545
        }
      },
      "source": [
        "%matplotlib inline\n",
        "import matplotlib.pyplot as plt\n",
        "acc = history.history['acc']\n",
        "val_acc = history.history['val_acc']\n",
        "loss = history.history['loss']\n",
        "val_loss = history.history['val_loss']\n",
        "\n",
        "epochs = range(len(acc))\n",
        "\n",
        "plt.plot(epochs, acc, 'r', label='Training accuracy')\n",
        "plt.plot(epochs, val_acc, 'b', label='Validation accuracy')\n",
        "plt.title('Training and validation accuracy')\n",
        "plt.legend()\n",
        "plt.figure()\n",
        "\n",
        "plt.plot(epochs, loss, 'r', label='Training Loss')\n",
        "plt.plot(epochs, val_loss, 'b', label='Validation Loss')\n",
        "plt.title('Training and validation loss')\n",
        "plt.legend()\n",
        "\n",
        "plt.show()"
      ],
      "execution_count": 20,
      "outputs": [
        {
          "output_type": "display_data",
          "data": {
            "image/png": "[encoded data removed]",
            "text/plain": [
              "<Figure size 432x288 with 1 Axes>"
            ]
          },
          "metadata": {
            "tags": [],
            "needs_background": "light"
          }
        },
        {
          "output_type": "display_data",
          "data": {
            "image/png": "[encoded data removed]",
            "text/plain": [
              "<Figure size 432x288 with 1 Axes>"
            ]
          },
          "metadata": {
            "tags": [],
            "needs_background": "light"
          }
        }
      ]
    },
    {
      "cell_type": "code",
      "metadata": {
        "id": "jG3k18JAXtc5"
      },
      "source": [
        ""
      ],
      "execution_count": null,
      "outputs": []
    }
  ]
}