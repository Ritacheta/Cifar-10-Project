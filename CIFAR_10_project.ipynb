{
  "nbformat": 4,
  "nbformat_minor": 0,
  "metadata": {
    "colab": {
      "name": "CIFAR-10 project",
      "provenance": [],
      "collapsed_sections": [],
      "include_colab_link": true
    },
    "kernelspec": {
      "name": "python3",
      "display_name": "Python 3"
    },
    "accelerator": "GPU"
  },
  "cells": [
    {
      "cell_type": "markdown",
      "metadata": {
        "id": "view-in-github",
        "colab_type": "text"
      },
      "source": [
        "<a href=\"https://colab.research.google.com/github/Ritacheta/Cifar-10-Project/blob/master/CIFAR_10_project.ipynb\" target=\"_parent\"><img src=\"https://colab.research.google.com/assets/colab-badge.svg\" alt=\"Open In Colab\"/></a>"
      ]
    },
    {
      "cell_type": "markdown",
      "metadata": {
        "id": "NiY7CJjqnPEz"
      },
      "source": [
        "Importing **Libraries**"
      ]
    },
    {
      "cell_type": "code",
      "metadata": {
        "id": "_y2fMkYu_Iw0"
      },
      "source": [
        "# Load the TensorBoard notebook extension\n",
        "%load_ext tensorboard"
      ],
      "execution_count": null,
      "outputs": []
    },
    {
      "cell_type": "code",
      "metadata": {
        "id": "q-7ZmqCHNJDa"
      },
      "source": [
        "import tensorflow as tf\n",
        "from tensorflow.keras.models import Sequential\n",
        "from tensorflow.keras.applications import ResNet101\n",
        "from tensorflow.keras.applications.resnet import preprocess_input\n",
        "from tensorflow.keras.models import Model, Sequential\n",
        "from tensorflow.keras.layers import Dense, Conv2D, Flatten, Dropout, MaxPooling2D, BatchNormalization\n",
        "from tensorflow.keras.preprocessing.image import ImageDataGenerator\n",
        "import datetime\n",
        "import os\n",
        "import numpy as np\n",
        "import matplotlib.pyplot as plt\n"
      ],
      "execution_count": null,
      "outputs": []
    },
    {
      "cell_type": "code",
      "metadata": {
        "id": "bdHZT-ZHOoXQ"
      },
      "source": [
        "from tensorflow.keras.datasets import cifar10"
      ],
      "execution_count": null,
      "outputs": []
    },
    {
      "cell_type": "code",
      "metadata": {
        "id": "mTlQxEC3Pqfc",
        "outputId": "5bb36be0-6dda-4fca-c212-d67848ab0151",
        "colab": {
          "base_uri": "https://localhost:8080/",
          "height": 51
        }
      },
      "source": [
        "(train_images, train_labels), (test_images, test_labels) = cifar10.load_data()\n",
        "train_labels = tf.keras.utils.to_categorical( train_labels, num_classes=10, dtype='float32')\n",
        "test_labels = tf.keras.utils.to_categorical(test_labels, num_classes=10, dtype='float32')"
      ],
      "execution_count": null,
      "outputs": [
        {
          "output_type": "stream",
          "text": [
            "Downloading data from https://www.cs.toronto.edu/~kriz/cifar-10-python.tar.gz\n",
            "170500096/170498071 [==============================] - 4s 0us/step\n"
          ],
          "name": "stdout"
        }
      ]
    },
    {
      "cell_type": "code",
      "metadata": {
        "id": "cxwfmyQD_XDX"
      },
      "source": [
        "# Clear any logs from previous runs\n",
        "!rm -rf ./logs/"
      ],
      "execution_count": null,
      "outputs": []
    },
    {
      "cell_type": "code",
      "metadata": {
        "id": "PuS3HtnFRMeJ"
      },
      "source": [
        "class_names = ['airplane','automobile','bird','cat','deer','dog',\n",
        "               'frog','horse','ship','truck']"
      ],
      "execution_count": null,
      "outputs": []
    },
    {
      "cell_type": "markdown",
      "metadata": {
        "id": "eKNu4IubP2co"
      },
      "source": [
        "Process **images**"
      ]
    },
    {
      "cell_type": "code",
      "metadata": {
        "id": "PloeZKugPn5E"
      },
      "source": [
        "train_datagen = ImageDataGenerator(\n",
        "    rescale = 1./255.0,\n",
        "    rotation_range=10,\n",
        "    width_shift_range=0.1,\n",
        "    height_shift_range=0.1,\n",
        "    horizontal_flip=True,\n",
        "    fill_mode='nearest'\n",
        "    )\n",
        "\n",
        "test_datagen = ImageDataGenerator(\n",
        "    rescale = 1./255.0,\n",
        "    )\n",
        "\n",
        "batch_size=64\n",
        "\n",
        "training_set = train_datagen.flow(train_images,train_labels,\n",
        "                                  batch_size=batch_size)\n",
        "\n",
        "test_set = test_datagen.flow(test_images,test_labels,\n",
        "                                  batch_size=batch_size)\n"
      ],
      "execution_count": null,
      "outputs": []
    },
    {
      "cell_type": "markdown",
      "metadata": {
        "id": "17-YnL49QJIA"
      },
      "source": [
        "Creating the Network"
      ]
    },
    {
      "cell_type": "code",
      "metadata": {
        "id": "_1HtVjwLQFFS"
      },
      "source": [
        "model =Sequential([\n",
        "                   Conv2D(32, (3,3), activation='relu', padding='same', input_shape = (32,32,3)),\n",
        "                   BatchNormalization(),\n",
        "                   Conv2D(32, (3,3), activation='relu', padding='same'),\n",
        "                   BatchNormalization(),\n",
        "                   MaxPooling2D((2,2)),\n",
        "                   Dropout(0.25),\n",
        "                   Conv2D(64, (3,3), activation='relu', padding='same'),\n",
        "                   BatchNormalization(),\n",
        "                   Conv2D(64, (3,3), activation='relu', padding='same'),\n",
        "                   BatchNormalization(),\n",
        "                   MaxPooling2D((2,2)),\n",
        "                   Dropout(0.3),\n",
        "                   Conv2D(128, (3,3), activation='relu', padding='same'),\n",
        "                   BatchNormalization(),\n",
        "                   Conv2D(128, (3,3), activation='relu', padding='same'),\n",
        "                   BatchNormalization(),\n",
        "                   MaxPooling2D((2,2)),\n",
        "                   Dropout(0.4),\n",
        "                   Conv2D(512, (3,3), activation='relu', padding='same'),\n",
        "                   BatchNormalization(),\n",
        "                   Conv2D(512, (3,3), activation='relu', padding='same'),\n",
        "                   BatchNormalization(),\n",
        "                   MaxPooling2D((2,2)),\n",
        "                   Dropout(0.5),\n",
        "                   Flatten(),\n",
        "                   Dense(512, activation='relu'),\n",
        "                   BatchNormalization(),\n",
        "                   Dropout(0.4),\n",
        "                   Dense(512, activation='relu'),\n",
        "                   BatchNormalization(),\n",
        "                   Dropout(0.4),\n",
        "                   Dense(10, activation='softmax')\n",
        "])\n"
      ],
      "execution_count": null,
      "outputs": []
    },
    {
      "cell_type": "code",
      "metadata": {
        "id": "si2UPpGRRWsM",
        "outputId": "541562da-47b3-43af-b1da-707626ad2fa1",
        "colab": {
          "base_uri": "https://localhost:8080/",
          "height": 1000
        }
      },
      "source": [
        "model.summary()"
      ],
      "execution_count": null,
      "outputs": [
        {
          "output_type": "stream",
          "text": [
            "Model: \"sequential\"\n",
            "_________________________________________________________________\n",
            "Layer (type)                 Output Shape              Param #   \n",
            "=================================================================\n",
            "conv2d (Conv2D)              (None, 32, 32, 32)        896       \n",
            "_________________________________________________________________\n",
            "batch_normalization (BatchNo (None, 32, 32, 32)        128       \n",
            "_________________________________________________________________\n",
            "conv2d_1 (Conv2D)            (None, 32, 32, 32)        9248      \n",
            "_________________________________________________________________\n",
            "batch_normalization_1 (Batch (None, 32, 32, 32)        128       \n",
            "_________________________________________________________________\n",
            "max_pooling2d (MaxPooling2D) (None, 16, 16, 32)        0         \n",
            "_________________________________________________________________\n",
            "dropout (Dropout)            (None, 16, 16, 32)        0         \n",
            "_________________________________________________________________\n",
            "conv2d_2 (Conv2D)            (None, 16, 16, 64)        18496     \n",
            "_________________________________________________________________\n",
            "batch_normalization_2 (Batch (None, 16, 16, 64)        256       \n",
            "_________________________________________________________________\n",
            "conv2d_3 (Conv2D)            (None, 16, 16, 64)        36928     \n",
            "_________________________________________________________________\n",
            "batch_normalization_3 (Batch (None, 16, 16, 64)        256       \n",
            "_________________________________________________________________\n",
            "max_pooling2d_1 (MaxPooling2 (None, 8, 8, 64)          0         \n",
            "_________________________________________________________________\n",
            "dropout_1 (Dropout)          (None, 8, 8, 64)          0         \n",
            "_________________________________________________________________\n",
            "conv2d_4 (Conv2D)            (None, 8, 8, 128)         73856     \n",
            "_________________________________________________________________\n",
            "batch_normalization_4 (Batch (None, 8, 8, 128)         512       \n",
            "_________________________________________________________________\n",
            "conv2d_5 (Conv2D)            (None, 8, 8, 128)         147584    \n",
            "_________________________________________________________________\n",
            "batch_normalization_5 (Batch (None, 8, 8, 128)         512       \n",
            "_________________________________________________________________\n",
            "max_pooling2d_2 (MaxPooling2 (None, 4, 4, 128)         0         \n",
            "_________________________________________________________________\n",
            "dropout_2 (Dropout)          (None, 4, 4, 128)         0         \n",
            "_________________________________________________________________\n",
            "conv2d_6 (Conv2D)            (None, 4, 4, 512)         590336    \n",
            "_________________________________________________________________\n",
            "batch_normalization_6 (Batch (None, 4, 4, 512)         2048      \n",
            "_________________________________________________________________\n",
            "conv2d_7 (Conv2D)            (None, 4, 4, 512)         2359808   \n",
            "_________________________________________________________________\n",
            "batch_normalization_7 (Batch (None, 4, 4, 512)         2048      \n",
            "_________________________________________________________________\n",
            "max_pooling2d_3 (MaxPooling2 (None, 2, 2, 512)         0         \n",
            "_________________________________________________________________\n",
            "dropout_3 (Dropout)          (None, 2, 2, 512)         0         \n",
            "_________________________________________________________________\n",
            "flatten (Flatten)            (None, 2048)              0         \n",
            "_________________________________________________________________\n",
            "dense (Dense)                (None, 512)               1049088   \n",
            "_________________________________________________________________\n",
            "batch_normalization_8 (Batch (None, 512)               2048      \n",
            "_________________________________________________________________\n",
            "dropout_4 (Dropout)          (None, 512)               0         \n",
            "_________________________________________________________________\n",
            "dense_1 (Dense)              (None, 512)               262656    \n",
            "_________________________________________________________________\n",
            "batch_normalization_9 (Batch (None, 512)               2048      \n",
            "_________________________________________________________________\n",
            "dropout_5 (Dropout)          (None, 512)               0         \n",
            "_________________________________________________________________\n",
            "dense_2 (Dense)              (None, 10)                5130      \n",
            "=================================================================\n",
            "Total params: 4,564,010\n",
            "Trainable params: 4,559,018\n",
            "Non-trainable params: 4,992\n",
            "_________________________________________________________________\n"
          ],
          "name": "stdout"
        }
      ]
    },
    {
      "cell_type": "markdown",
      "metadata": {
        "id": "Tta2NiBsBIb3"
      },
      "source": [
        "Optimizer"
      ]
    },
    {
      "cell_type": "code",
      "metadata": {
        "id": "sls0HGlFRj3Q"
      },
      "source": [
        " opt = tf.keras.optimizers.Adam(\n",
        "    learning_rate=0.001, beta_1=0.9, beta_2=0.999, epsilon=1e-07, amsgrad=False,\n",
        "     name='Adam'\n",
        " )\n",
        " \n",
        "model.compile(optimizer=opt,\n",
        "    loss='categorical_crossentropy',\n",
        "    metrics=['accuracy'])"
      ],
      "execution_count": null,
      "outputs": []
    },
    {
      "cell_type": "code",
      "metadata": {
        "id": "nVwJXlezRxCK",
        "outputId": "26b0aaa9-9f1b-475f-f7f6-70366b36ea30",
        "colab": {
          "base_uri": "https://localhost:8080/",
          "height": 479
        }
      },
      "source": [
        "# history = model.fit(train_images, train_labels, epochs=50, batch_size=64, validation_data=(test_images, test_labels))\n",
        "log_dir = \"logs/fit/\" + datetime.datetime.now().strftime(\"%Y%m%d-%H%M%S\")\n",
        "tensorboard_callback = tf.keras.callbacks.TensorBoard(log_dir=log_dir, histogram_freq=1)\n",
        "history = model.fit(training_set, epochs=10, validation_data=test_set, callbacks = [tensorboard_callback])\n",
        "\n",
        "model.evaluate(test_images, test_labels, verbose=1)"
      ],
      "execution_count": null,
      "outputs": [
        {
          "output_type": "stream",
          "text": [
            "Epoch 1/10\n",
            "  1/782 [..............................] - ETA: 0s - loss: 3.4557 - accuracy: 0.1250WARNING:tensorflow:From /usr/local/lib/python3.6/dist-packages/tensorflow/python/ops/summary_ops_v2.py:1277: stop (from tensorflow.python.eager.profiler) is deprecated and will be removed after 2020-07-01.\n",
            "Instructions for updating:\n",
            "use `tf.profiler.experimental.stop` instead.\n",
            "  2/782 [..............................] - ETA: 42s - loss: 3.4534 - accuracy: 0.1328WARNING:tensorflow:Callbacks method `on_train_batch_end` is slow compared to the batch time (batch time: 0.0274s vs `on_train_batch_end` time: 0.0834s). Check your callbacks.\n",
            "782/782 [==============================] - 30s 39ms/step - loss: 1.9995 - accuracy: 0.3695 - val_loss: 1.7825 - val_accuracy: 0.4738\n",
            "Epoch 2/10\n",
            "782/782 [==============================] - 29s 38ms/step - loss: 1.4191 - accuracy: 0.5428 - val_loss: 1.3009 - val_accuracy: 0.5971\n",
            "Epoch 3/10\n",
            "782/782 [==============================] - 30s 38ms/step - loss: 1.1988 - accuracy: 0.6278 - val_loss: 1.1265 - val_accuracy: 0.6713\n",
            "Epoch 4/10\n",
            "782/782 [==============================] - 29s 37ms/step - loss: 1.0684 - accuracy: 0.6725 - val_loss: 1.3934 - val_accuracy: 0.6039\n",
            "Epoch 5/10\n",
            "782/782 [==============================] - 29s 37ms/step - loss: 0.9877 - accuracy: 0.7016 - val_loss: 0.9432 - val_accuracy: 0.7176\n",
            "Epoch 6/10\n",
            "782/782 [==============================] - 29s 37ms/step - loss: 0.9195 - accuracy: 0.7232 - val_loss: 0.9417 - val_accuracy: 0.7257\n",
            "Epoch 7/10\n",
            "782/782 [==============================] - 29s 37ms/step - loss: 0.8636 - accuracy: 0.7379 - val_loss: 0.9140 - val_accuracy: 0.7257\n",
            "Epoch 8/10\n",
            "782/782 [==============================] - 29s 37ms/step - loss: 0.8231 - accuracy: 0.7519 - val_loss: 0.7654 - val_accuracy: 0.7735\n",
            "Epoch 9/10\n",
            "782/782 [==============================] - 28s 36ms/step - loss: 0.7850 - accuracy: 0.7680 - val_loss: 0.8169 - val_accuracy: 0.7542\n",
            "Epoch 10/10\n",
            "782/782 [==============================] - 28s 35ms/step - loss: 0.7614 - accuracy: 0.7745 - val_loss: 0.8190 - val_accuracy: 0.7542\n",
            "313/313 [==============================] - 1s 4ms/step - loss: 28.1550 - accuracy: 0.2990\n"
          ],
          "name": "stdout"
        },
        {
          "output_type": "execute_result",
          "data": {
            "text/plain": [
              "[28.154977798461914, 0.29899999499320984]"
            ]
          },
          "metadata": {
            "tags": []
          },
          "execution_count": 12
        }
      ]
    },
    {
      "cell_type": "markdown",
      "metadata": {
        "id": "8Djz6TOMA8SQ"
      },
      "source": [
        "Ploting train vs **validation**"
      ]
    },
    {
      "cell_type": "code",
      "metadata": {
        "id": "XT5gnAai_ulq",
        "outputId": "fe42d21d-6da6-4fa8-e0c7-67a29fd037d6",
        "colab": {
          "base_uri": "https://localhost:8080/"
        }
      },
      "source": [
        "%tensorboard --logdir logs/fit"
      ],
      "execution_count": null,
      "outputs": [
        {
          "output_type": "display_data",
          "data": {
            "text/plain": [
              "Launching TensorBoard..."
            ]
          },
          "metadata": {
            "tags": []
          }
        }
      ]
    },
    {
      "cell_type": "code",
      "metadata": {
        "id": "v47Lxm-ESmys",
        "outputId": "ec7411c6-a21d-476b-fb2b-b7cccc843660",
        "colab": {
          "base_uri": "https://localhost:8080/",
          "height": 545
        }
      },
      "source": [
        "%matplotlib inline\n",
        "import matplotlib.pyplot as plt\n",
        "acc = history.history['accuracy']\n",
        "val_acc = history.history['val_accuracy']\n",
        "loss = history.history['loss']\n",
        "val_loss = history.history['val_loss']\n",
        "\n",
        "epochs = range(len(acc))\n",
        "\n",
        "plt.plot(epochs, acc, 'r', label='Training accuracy')\n",
        "plt.plot(epochs, val_acc, 'b', label='Validation accuracy')\n",
        "plt.title('Training and validation accuracy')\n",
        "plt.legend()\n",
        "plt.figure()\n",
        "\n",
        "plt.plot(epochs, loss, 'r', label='Training Loss')\n",
        "plt.plot(epochs, val_loss, 'b', label='Validation Loss')\n",
        "plt.title('Training and validation loss')\n",
        "plt.legend()\n",
        "\n",
        "plt.show()"
      ],
      "execution_count": null,
      "outputs": [
        {
          "output_type": "display_data",
          "data": {
            "image/png": "[encoded data removed]",
            "text/plain": [
              "<Figure size 432x288 with 1 Axes>"
            ]
          },
          "metadata": {
            "tags": [],
            "needs_background": "light"
          }
        },
        {
          "output_type": "display_data",
          "data": {
            "image/png": "[encoded data removed]",
            "text/plain": [
              "<Figure size 432x288 with 1 Axes>"
            ]
          },
          "metadata": {
            "tags": [],
            "needs_background": "light"
          }
        }
      ]
    },
    {
      "cell_type": "code",
      "metadata": {
        "id": "jG3k18JAXtc5"
      },
      "source": [
        ""
      ],
      "execution_count": null,
      "outputs": []
    }
  ]
}